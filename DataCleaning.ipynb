{
  "cells": [
    {
      "cell_type": "markdown",
      "source": [
        "# DATA CLEANING FOR THE COVID CASES DATASET"
      ],
      "metadata": {
        "nteract": {
          "transient": {
            "deleting": false
          }
        }
      }
    },
    {
      "cell_type": "markdown",
      "source": [
        "### This notebook demonstrates the handling of missing values for the Covid patients across the various states of United States. We delve into the dataset and explore different methods of hangdling missing values. The notebook has appropriate sections and comments to address the limitations and the insights the data gives."
      ],
      "metadata": {
        "nteract": {
          "transient": {
            "deleting": false
          }
        }
      }
    },
    {
      "cell_type": "markdown",
      "source": [
        "## Data Loading and Importing Neccessary Libraries"
      ],
      "metadata": {
        "nteract": {
          "transient": {
            "deleting": false
          }
        }
      }
    },
    {
      "cell_type": "code",
      "source": [
        "# !pip install fancyimpute"
      ],
      "outputs": [],
      "execution_count": 1,
      "metadata": {
        "jupyter": {
          "source_hidden": false,
          "outputs_hidden": false
        },
        "nteract": {
          "transient": {
            "deleting": false
          }
        },
        "gather": {
          "logged": 1706046457630
        }
      }
    },
    {
      "cell_type": "code",
      "source": [
        "# importing neccessary libraries\n",
        "import pandas as pd\n",
        "import numpy as np\n",
        "from matplotlib import pyplot as plt\n",
        "import seaborn as sns\n",
        "# from sklearn.ensemble import RandomForestRegressor\n",
        "# from fancyimpute import IterativeImputer"
      ],
      "outputs": [],
      "execution_count": 32,
      "metadata": {
        "gather": {
          "logged": 1706064786398
        }
      }
    },
    {
      "cell_type": "code",
      "source": [
        "# Loading the dataset from the provided link\n",
        "\n",
        "url = \"https://emd-coding-challenge.s3.us-east-2.amazonaws.com/covid-19-aqi/covid19/cases.csv.bz2\"\n",
        "df = pd.read_csv(url, compression='bz2')\n",
        "df.head()"
      ],
      "outputs": [
        {
          "output_type": "stream",
          "name": "stderr",
          "text": "/anaconda/envs/azureml_py38/lib/python3.8/site-packages/IPython/core/interactiveshell.py:3269: DtypeWarning: Columns (3) have mixed types.Specify dtype option on import or set low_memory=False.\n  has_raised = await self.run_ast_nodes(code_ast.body, cell_name,\n"
        },
        {
          "output_type": "execute_result",
          "execution_count": 33,
          "data": {
            "text/plain": "  case_month res_state  state_fips_code res_county  county_fips_code  \\\n0    2020-12        AR              5.0      BOONE            5009.0   \n1    2021-10        MO             29.0     PHELPS           29161.0   \n2    2020-10        MO             29.0       CASS           29037.0   \n3    2021-08        TN             47.0  CLAIBORNE           47025.0   \n4    2020-11        GA             13.0  EFFINGHAM           13103.0   \n\n      age_group     sex     race ethnicity  case_positive_specimen_interval  \\\n0  0 - 17 years     NaN      NaN       NaN                              0.0   \n1  0 - 17 years     NaN      NaN       NaN                              0.0   \n2  0 - 17 years  Female      NaN       NaN                              0.0   \n3  0 - 17 years  Female  Missing   Missing                              0.0   \n4  0 - 17 years  Female  Unknown   Missing                              NaN   \n\n   case_onset_interval  process exposure_yn             current_status  \\\n0                  NaN  Missing     Missing  Laboratory-confirmed case   \n1                  NaN  Missing     Missing  Laboratory-confirmed case   \n2                  0.0  Missing     Missing  Laboratory-confirmed case   \n3                  NaN  Missing     Missing  Laboratory-confirmed case   \n4                  0.0  Missing     Missing  Laboratory-confirmed case   \n\n  symptom_status  hosp_yn   icu_yn death_yn underlying_conditions_yn  \n0    Symptomatic  Missing  Missing      NaN                      NaN  \n1        Missing  Unknown  Missing  Unknown                      NaN  \n2    Symptomatic  Unknown  Missing  Unknown                      NaN  \n3        Missing  Missing  Missing  Missing                      NaN  \n4    Symptomatic  Missing  Missing  Missing                      NaN  ",
            "text/html": "<div>\n<style scoped>\n    .dataframe tbody tr th:only-of-type {\n        vertical-align: middle;\n    }\n\n    .dataframe tbody tr th {\n        vertical-align: top;\n    }\n\n    .dataframe thead th {\n        text-align: right;\n    }\n</style>\n<table border=\"1\" class=\"dataframe\">\n  <thead>\n    <tr style=\"text-align: right;\">\n      <th></th>\n      <th>case_month</th>\n      <th>res_state</th>\n      <th>state_fips_code</th>\n      <th>res_county</th>\n      <th>county_fips_code</th>\n      <th>age_group</th>\n      <th>sex</th>\n      <th>race</th>\n      <th>ethnicity</th>\n      <th>case_positive_specimen_interval</th>\n      <th>case_onset_interval</th>\n      <th>process</th>\n      <th>exposure_yn</th>\n      <th>current_status</th>\n      <th>symptom_status</th>\n      <th>hosp_yn</th>\n      <th>icu_yn</th>\n      <th>death_yn</th>\n      <th>underlying_conditions_yn</th>\n    </tr>\n  </thead>\n  <tbody>\n    <tr>\n      <th>0</th>\n      <td>2020-12</td>\n      <td>AR</td>\n      <td>5.0</td>\n      <td>BOONE</td>\n      <td>5009.0</td>\n      <td>0 - 17 years</td>\n      <td>NaN</td>\n      <td>NaN</td>\n      <td>NaN</td>\n      <td>0.0</td>\n      <td>NaN</td>\n      <td>Missing</td>\n      <td>Missing</td>\n      <td>Laboratory-confirmed case</td>\n      <td>Symptomatic</td>\n      <td>Missing</td>\n      <td>Missing</td>\n      <td>NaN</td>\n      <td>NaN</td>\n    </tr>\n    <tr>\n      <th>1</th>\n      <td>2021-10</td>\n      <td>MO</td>\n      <td>29.0</td>\n      <td>PHELPS</td>\n      <td>29161.0</td>\n      <td>0 - 17 years</td>\n      <td>NaN</td>\n      <td>NaN</td>\n      <td>NaN</td>\n      <td>0.0</td>\n      <td>NaN</td>\n      <td>Missing</td>\n      <td>Missing</td>\n      <td>Laboratory-confirmed case</td>\n      <td>Missing</td>\n      <td>Unknown</td>\n      <td>Missing</td>\n      <td>Unknown</td>\n      <td>NaN</td>\n    </tr>\n    <tr>\n      <th>2</th>\n      <td>2020-10</td>\n      <td>MO</td>\n      <td>29.0</td>\n      <td>CASS</td>\n      <td>29037.0</td>\n      <td>0 - 17 years</td>\n      <td>Female</td>\n      <td>NaN</td>\n      <td>NaN</td>\n      <td>0.0</td>\n      <td>0.0</td>\n      <td>Missing</td>\n      <td>Missing</td>\n      <td>Laboratory-confirmed case</td>\n      <td>Symptomatic</td>\n      <td>Unknown</td>\n      <td>Missing</td>\n      <td>Unknown</td>\n      <td>NaN</td>\n    </tr>\n    <tr>\n      <th>3</th>\n      <td>2021-08</td>\n      <td>TN</td>\n      <td>47.0</td>\n      <td>CLAIBORNE</td>\n      <td>47025.0</td>\n      <td>0 - 17 years</td>\n      <td>Female</td>\n      <td>Missing</td>\n      <td>Missing</td>\n      <td>0.0</td>\n      <td>NaN</td>\n      <td>Missing</td>\n      <td>Missing</td>\n      <td>Laboratory-confirmed case</td>\n      <td>Missing</td>\n      <td>Missing</td>\n      <td>Missing</td>\n      <td>Missing</td>\n      <td>NaN</td>\n    </tr>\n    <tr>\n      <th>4</th>\n      <td>2020-11</td>\n      <td>GA</td>\n      <td>13.0</td>\n      <td>EFFINGHAM</td>\n      <td>13103.0</td>\n      <td>0 - 17 years</td>\n      <td>Female</td>\n      <td>Unknown</td>\n      <td>Missing</td>\n      <td>NaN</td>\n      <td>0.0</td>\n      <td>Missing</td>\n      <td>Missing</td>\n      <td>Laboratory-confirmed case</td>\n      <td>Symptomatic</td>\n      <td>Missing</td>\n      <td>Missing</td>\n      <td>Missing</td>\n      <td>NaN</td>\n    </tr>\n  </tbody>\n</table>\n</div>"
          },
          "metadata": {}
        }
      ],
      "execution_count": 33,
      "metadata": {
        "jupyter": {
          "source_hidden": false,
          "outputs_hidden": false
        },
        "nteract": {
          "transient": {
            "deleting": false
          }
        },
        "gather": {
          "logged": 1706065014604
        }
      }
    },
    {
      "cell_type": "markdown",
      "source": [
        "## Initial Data Exploration\n",
        "After loading the dataset, we perform some preliminary exploration to understand its structure and contents. This includes viewing the first few rows of the dataset, checking for data types, and summarizing the key statistics. This step helps in identifying any immediate data cleaning or transformation needs.\n"
      ],
      "metadata": {
        "nteract": {
          "transient": {
            "deleting": false
          }
        }
      }
    },
    {
      "cell_type": "markdown",
      "source": [
        "We observe the different features of the dataset. Now we explore the datatypes of the data we have in the dataset."
      ],
      "metadata": {
        "nteract": {
          "transient": {
            "deleting": false
          }
        }
      }
    },
    {
      "cell_type": "code",
      "source": [
        "df.dtypes"
      ],
      "outputs": [
        {
          "output_type": "execute_result",
          "execution_count": 36,
          "data": {
            "text/plain": "case_month                          object\nres_state                           object\nstate_fips_code                    float64\nres_county                          object\ncounty_fips_code                   float64\nage_group                           object\nsex                                 object\nrace                                object\nethnicity                           object\ncase_positive_specimen_interval    float64\ncase_onset_interval                float64\nprocess                             object\nexposure_yn                         object\ncurrent_status                      object\nsymptom_status                      object\nhosp_yn                             object\nicu_yn                              object\ndeath_yn                            object\nunderlying_conditions_yn            object\ndtype: object"
          },
          "metadata": {}
        }
      ],
      "execution_count": 36,
      "metadata": {
        "jupyter": {
          "source_hidden": false,
          "outputs_hidden": false
        },
        "nteract": {
          "transient": {
            "deleting": false
          }
        },
        "gather": {
          "logged": 1706065398684
        }
      }
    },
    {
      "cell_type": "markdown",
      "source": [
        "## Analysis of Data Types\n",
        "\n",
        "Our COVID-19 dataset comprises various columns, each representing specific information about the cases. Understanding the data types of each column is essential for appropriate data handling and analysis. Here is a summary of the data types for each column:\n",
        "\n",
        "- `case_month`: `object` (String), indicating the month of the COVID-19 case.\n",
        "- `res_state`: `object` (String), representing the state of residence of the case.\n",
        "- `state_fips_code`: `float64`, the Federal Information Processing Standards code for the state.\n",
        "- `res_county`: `object` (String), indicating the county of residence.\n",
        "- `county_fips_code`: `float64`, the Federal Information Processing Standards code for the county.\n",
        "- `age_group`: `object` (String), representing the age group of the individual.\n",
        "- `sex`: `object` (String), indicating the sex of the individual.\n",
        "- `race`: `object` (String), representing the race of the individual.\n",
        "- `ethnicity`: `object` (String), indicating the ethnicity of the individual.\n",
        "- `case_positive_specimen_interval`: `float64`, representing the interval between specimen collection and the case testing positive.\n",
        "- `case_onset_interval`: `float64`, the interval between the onset of the case and its reporting.\n",
        "- `process`: `object` (String), indicating the process involved in the case reporting.\n",
        "- `exposure_yn`: `object` (String), representing exposure information.\n",
        "- `current_status`: `object` (String), indicating the current status of the case.\n",
        "- `symptom_status`: `object` (String), representing the symptom status of the case.\n",
        "- `hosp_yn`: `object` (String), indicating whether the individual was hospitalized.\n",
        "- `icu_yn`: `object` (String), representing whether the individual was admitted to the ICU.\n",
        "- `death_yn`: `object` (String), indicating whether the case resulted in death.\n",
        "- `underlying_conditions_yn`: `object` (String), representing whether the individual had any underlying conditions.\n",
        "\n",
        "The presence of both numerical (`float64`) and categorical (`object`) data types indicates the need for varied analytical approaches and data preprocessing methods, such as encoding for categorical variables and handling numerical data appropriately for analysis.\n"
      ],
      "metadata": {
        "nteract": {
          "transient": {
            "deleting": false
          }
        }
      }
    },
    {
      "cell_type": "code",
      "source": [
        "df.describe()"
      ],
      "outputs": [
        {
          "output_type": "execute_result",
          "execution_count": 37,
          "data": {
            "text/plain": "       state_fips_code  county_fips_code  case_positive_specimen_interval  \\\ncount     3.753115e+07      3.497079e+07                     1.241888e+07   \nmean      2.574162e+01      2.564581e+04                     2.008112e-01   \nstd       1.585494e+01      1.586762e+04                     1.770156e+00   \nmin       1.000000e+00      1.001000e+03                    -8.100000e+01   \n25%       1.200000e+01      1.201500e+04                     0.000000e+00   \n50%       2.600000e+01      2.502700e+04                     0.000000e+00   \n75%       3.900000e+01      3.904300e+04                     0.000000e+00   \nmax       7.800000e+01      5.604100e+04                     8.700000e+01   \n\n       case_onset_interval  \ncount         1.731066e+07  \nmean          9.994835e-02  \nstd           1.788816e+00  \nmin          -5.900000e+01  \n25%           0.000000e+00  \n50%           0.000000e+00  \n75%           0.000000e+00  \nmax           8.300000e+01  ",
            "text/html": "<div>\n<style scoped>\n    .dataframe tbody tr th:only-of-type {\n        vertical-align: middle;\n    }\n\n    .dataframe tbody tr th {\n        vertical-align: top;\n    }\n\n    .dataframe thead th {\n        text-align: right;\n    }\n</style>\n<table border=\"1\" class=\"dataframe\">\n  <thead>\n    <tr style=\"text-align: right;\">\n      <th></th>\n      <th>state_fips_code</th>\n      <th>county_fips_code</th>\n      <th>case_positive_specimen_interval</th>\n      <th>case_onset_interval</th>\n    </tr>\n  </thead>\n  <tbody>\n    <tr>\n      <th>count</th>\n      <td>3.753115e+07</td>\n      <td>3.497079e+07</td>\n      <td>1.241888e+07</td>\n      <td>1.731066e+07</td>\n    </tr>\n    <tr>\n      <th>mean</th>\n      <td>2.574162e+01</td>\n      <td>2.564581e+04</td>\n      <td>2.008112e-01</td>\n      <td>9.994835e-02</td>\n    </tr>\n    <tr>\n      <th>std</th>\n      <td>1.585494e+01</td>\n      <td>1.586762e+04</td>\n      <td>1.770156e+00</td>\n      <td>1.788816e+00</td>\n    </tr>\n    <tr>\n      <th>min</th>\n      <td>1.000000e+00</td>\n      <td>1.001000e+03</td>\n      <td>-8.100000e+01</td>\n      <td>-5.900000e+01</td>\n    </tr>\n    <tr>\n      <th>25%</th>\n      <td>1.200000e+01</td>\n      <td>1.201500e+04</td>\n      <td>0.000000e+00</td>\n      <td>0.000000e+00</td>\n    </tr>\n    <tr>\n      <th>50%</th>\n      <td>2.600000e+01</td>\n      <td>2.502700e+04</td>\n      <td>0.000000e+00</td>\n      <td>0.000000e+00</td>\n    </tr>\n    <tr>\n      <th>75%</th>\n      <td>3.900000e+01</td>\n      <td>3.904300e+04</td>\n      <td>0.000000e+00</td>\n      <td>0.000000e+00</td>\n    </tr>\n    <tr>\n      <th>max</th>\n      <td>7.800000e+01</td>\n      <td>5.604100e+04</td>\n      <td>8.700000e+01</td>\n      <td>8.300000e+01</td>\n    </tr>\n  </tbody>\n</table>\n</div>"
          },
          "metadata": {}
        }
      ],
      "execution_count": 37,
      "metadata": {
        "jupyter": {
          "source_hidden": false,
          "outputs_hidden": false
        },
        "nteract": {
          "transient": {
            "deleting": false
          }
        },
        "gather": {
          "logged": 1706065559788
        }
      }
    },
    {
      "cell_type": "markdown",
      "source": [
        "## Statistical Summary of Key Numerical Columns\n",
        "\n",
        "We have analyzed several numerical columns in our dataset to gain insights into their distribution and variability. The columns include state and county FIPS codes, and intervals for case positive specimen and case onset. Here is a detailed statistical summary:\n",
        "\n",
        "- **State FIPS Code (`state_fips_code`):**\n",
        "  - **Count:** 37,531,150 entries.\n",
        "  - **Mean:** Approximately 25.74, indicating the average FIPS code.\n",
        "  - **Standard Deviation:** 15.85, showing the variability in FIPS codes.\n",
        "  - **Min-Max Range:** From 1 to 78, encompassing the range of FIPS codes.\n",
        "\n",
        "- **County FIPS Code (`county_fips_code`):**\n",
        "  - **Count:** 34,970,790 entries.\n",
        "  - **Mean:** Approximately 25,645.81, indicating the average FIPS code for counties.\n",
        "  - **Standard Deviation:** 15,867.62, suggesting a wide range of county FIPS codes.\n",
        "  - **Min-Max Range:** From 1,001 to 56,041.\n",
        "\n",
        "- **Case Positive Specimen Interval (`case_positive_specimen_interval`):**\n",
        "  - **Count:** 12,418,880 entries.\n",
        "  - **Mean:** 0.2008, indicating the average interval between specimen collection and case positive report.\n",
        "  - **Standard Deviation:** 1.77, which shows the variation in this interval.\n",
        "  - **Min-Max Range:** From -81 to 87, which might indicate data entry errors or specific coding in the dataset.\n",
        "\n",
        "- **Case Onset Interval (`case_onset_interval`):**\n",
        "  - **Count:** 17,310,660 entries.\n",
        "  - **Mean:** 0.0999, representing the average interval between case onset and reporting.\n",
        "  - **Standard Deviation:** 1.7888, showing the variability of this interval.\n",
        "  - **Min-Max Range:** From -59 to 83, which, similar to the specimen interval, may suggest anomalies in data entry or specific coding conventions.\n",
        "\n",
        "The presence of negative values in the intervals suggests there might be data entry errors or specific codes that need further investigation. The large standard deviations in these intervals indicate high variability, which could be significant for our analysis. Understanding these distributions is crucial for interpreting the data correctly and making informed analytical decisions.\n"
      ],
      "metadata": {
        "nteract": {
          "transient": {
            "deleting": false
          }
        }
      }
    },
    {
      "cell_type": "markdown",
      "source": [
        "Now we check for the missing values."
      ],
      "metadata": {
        "nteract": {
          "transient": {
            "deleting": false
          }
        }
      }
    },
    {
      "cell_type": "markdown",
      "source": [
        "## Handling Missing Values\n",
        "Handling missing values is a critical step in preparing the dataset for analysis. Proper handling of missing data ensures the accuracy and reliability of our analysis. The approach taken here involves:\n",
        "\n",
        "1. Identifying missing values across different columns.\n",
        "2. Deciding on an appropriate strategy for each column - such as imputation or removal.\n",
        "3. Implementing the chosen strategy.\n",
        "This section details each of these steps and their rationale.\n"
      ],
      "metadata": {
        "nteract": {
          "transient": {
            "deleting": false
          }
        }
      }
    },
    {
      "cell_type": "code",
      "source": [
        "df.isnull().sum()"
      ],
      "outputs": [
        {
          "output_type": "execute_result",
          "execution_count": 4,
          "data": {
            "text/plain": "case_month                               12\nres_state                               920\nstate_fips_code                         920\nres_county                          2561284\ncounty_fips_code                    2561284\nage_group                            406634\nsex                                 1244276\nrace                                6597416\nethnicity                           7837672\ncase_positive_specimen_interval    25113195\ncase_onset_interval                20221411\nprocess                                   0\nexposure_yn                               0\ncurrent_status                            0\nsymptom_status                            0\nhosp_yn                                   0\nicu_yn                                    0\ndeath_yn                            1752914\nunderlying_conditions_yn           35206303\ndtype: int64"
          },
          "metadata": {}
        }
      ],
      "execution_count": 4,
      "metadata": {
        "jupyter": {
          "source_hidden": false,
          "outputs_hidden": false
        },
        "nteract": {
          "transient": {
            "deleting": false
          }
        },
        "gather": {
          "logged": 1706046724685
        }
      }
    },
    {
      "cell_type": "markdown",
      "source": [
        "We can observe the number of missing values in the dataset. We can be sure that the dataset contains a lot of missing values so we will need to handle each column seperately and make a decision whether to impute these columns or drop them."
      ],
      "metadata": {
        "nteract": {
          "transient": {
            "deleting": false
          }
        }
      }
    },
    {
      "cell_type": "markdown",
      "source": [
        "Upon observation, we found that some values instead of NaN are named as \"Missing\". So we replace those values with NaN to get a better insight for missing values."
      ],
      "metadata": {
        "nteract": {
          "transient": {
            "deleting": false
          }
        }
      }
    },
    {
      "cell_type": "code",
      "source": [
        "df.replace(\"Missing\",np.nan,inplace=True)\n",
        "df.isnull().sum()"
      ],
      "outputs": [
        {
          "output_type": "execute_result",
          "execution_count": 38,
          "data": {
            "text/plain": "case_month                               12\nres_state                               920\nstate_fips_code                         920\nres_county                          2561284\ncounty_fips_code                    2561284\nage_group                            761547\nsex                                 1290097\nrace                                9349237\nethnicity                          10022760\ncase_positive_specimen_interval    25113195\ncase_onset_interval                20221411\nprocess                            35656638\nexposure_yn                        34192511\ncurrent_status                            0\nsymptom_status                     14700040\nhosp_yn                            15609769\nicu_yn                             31662298\ndeath_yn                           19415329\nunderlying_conditions_yn           35206303\ndtype: int64"
          },
          "metadata": {}
        }
      ],
      "execution_count": 38,
      "metadata": {
        "jupyter": {
          "source_hidden": false,
          "outputs_hidden": false
        },
        "nteract": {
          "transient": {
            "deleting": false
          }
        },
        "gather": {
          "logged": 1706066868306
        }
      }
    },
    {
      "cell_type": "markdown",
      "source": [
        "We also observe that some values also contain nul in columns like symptom_status. Hence we replace them wih NaN as well."
      ],
      "metadata": {
        "nteract": {
          "transient": {
            "deleting": false
          }
        }
      }
    },
    {
      "cell_type": "code",
      "source": [
        "df.replace(\"nul\",np.nan,inplace=True)\n",
        "df.isnull().sum()"
      ],
      "outputs": [
        {
          "output_type": "execute_result",
          "execution_count": 39,
          "data": {
            "text/plain": "case_month                               12\nres_state                               920\nstate_fips_code                         920\nres_county                          2561284\ncounty_fips_code                    2561284\nage_group                            761547\nsex                                 1290097\nrace                                9349237\nethnicity                          10022760\ncase_positive_specimen_interval    25113195\ncase_onset_interval                20221411\nprocess                            35656638\nexposure_yn                        34192511\ncurrent_status                            0\nsymptom_status                     14700353\nhosp_yn                            15609769\nicu_yn                             31662729\ndeath_yn                           19415329\nunderlying_conditions_yn           35206303\ndtype: int64"
          },
          "metadata": {}
        }
      ],
      "execution_count": 39,
      "metadata": {
        "jupyter": {
          "source_hidden": false,
          "outputs_hidden": false
        },
        "nteract": {
          "transient": {
            "deleting": false
          }
        },
        "gather": {
          "logged": 1706066909417
        }
      }
    },
    {
      "cell_type": "markdown",
      "source": [
        "## Analysis of Missing Values\n",
        "\n",
        "In our COVID-19 dataset, we have several columns each representing specific attributes related to the cases. Below is a summary of the count of missing values in each column:\n",
        "\n",
        "- `case_month`: 12 missing values, indicating the month of the COVID-19 case.\n",
        "- `res_state`: 920 missing values, representing the state of residence.\n",
        "- `state_fips_code`: 920 missing values, showing the FIPS code for the state.\n",
        "- `res_county`: 2,561,284 missing values, indicating the county of residence.\n",
        "- `county_fips_code`: 2,561,284 missing values, for the FIPS code of the county.\n",
        "- `age_group`: 761,547 missing values, representing the age group of the individuals.\n",
        "- `sex`: 1,290,097 missing values, indicating the sex of the individuals.\n",
        "- `race`: 9,349,237 missing values, showing the race of the individuals.\n",
        "- `ethnicity`: 10,022,760 missing values, representing the ethnicity of the individuals.\n",
        "- `case_positive_specimen_interval`: 25,113,195 missing values, the interval between specimen collection and the case turning positive.\n",
        "- `case_onset_interval`: 20,221,411 missing values, the interval between the case onset and the reporting.\n",
        "- `process`: 35,656,638 missing values, indicating the process involved in the case.\n",
        "- `exposure_yn`: 34,192,511 missing values, representing exposure information.\n",
        "- `current_status`: No missing values, showing the current status of the case.\n",
        "- `symptom_status`: 14,700,353 missing values, indicating the status of symptoms in the case.\n",
        "- `hosp_yn`: 15,609,769 missing values, representing hospitalization status.\n",
        "- `icu_yn`: 31,662,729 missing values, indicating whether the case was admitted to ICU.\n",
        "- `death_yn`: 19,415,329 missing values, showing if the case resulted in death.\n",
        "- `underlying_conditions_yn`: 35,206,303 missing values, indicating if there were any underlying conditions.\n",
        "\n",
        "This comprehensive view of missing data across our dataset is crucial for planning our data cleaning and imputation strategies. The missing values need to be addressed appropriately to ensure the integrity and reliability of our subsequent analyses.\n"
      ],
      "metadata": {
        "nteract": {
          "transient": {
            "deleting": false
          }
        }
      }
    },
    {
      "cell_type": "markdown",
      "source": [
        "For us, the factors that are related to hospitalization and aqi are of prime importance. But the columns\n",
        "process, exposure_yn, death_yn & underlying_conditions_yn have more than 95% missing values. So instead of imputation and introducing any bias, it is better preferable to drop these columns itself. Hence we drop these columns."
      ],
      "metadata": {
        "nteract": {
          "transient": {
            "deleting": false
          }
        }
      }
    },
    {
      "cell_type": "code",
      "source": [
        "df.drop(columns=['process','exposure_yn','death_yn','underlying_conditions_yn'],inplace=True,axis=1)"
      ],
      "outputs": [],
      "execution_count": 40,
      "metadata": {
        "jupyter": {
          "source_hidden": false,
          "outputs_hidden": false
        },
        "nteract": {
          "transient": {
            "deleting": false
          }
        },
        "gather": {
          "logged": 1706066929046
        }
      }
    },
    {
      "cell_type": "markdown",
      "source": [
        "Now from common sense, we can say that the people who are admitted in the ICU (Intensive Care Unit) are bound to be admitted in a hospital. So we check if any values in ICU are valid given any values in hospital_yn are missing so that we can remove those"
      ],
      "metadata": {
        "nteract": {
          "transient": {
            "deleting": false
          }
        }
      }
    },
    {
      "cell_type": "code",
      "source": [
        "df.loc[(df['icu_yn'] == 'Yes') & (df['hosp_yn'].isna()), 'hosp_yn'] = 'Yes'\n",
        "print(df['hosp_yn'].value_counts(dropna=False))"
      ],
      "outputs": [
        {
          "output_type": "stream",
          "name": "stdout",
          "text": "No         15630029\nNaN        15609767\nUnknown     4605502\nYes         1686774\nName: hosp_yn, dtype: int64\n"
        }
      ],
      "execution_count": 41,
      "metadata": {
        "jupyter": {
          "source_hidden": false,
          "outputs_hidden": false
        },
        "nteract": {
          "transient": {
            "deleting": false
          }
        },
        "gather": {
          "logged": 1706066937227
        }
      }
    },
    {
      "cell_type": "markdown",
      "source": [
        "\n",
        "\n",
        "In our dataset, the `hosp_yn` column, which indicates hospitalization status, contains three categories of values. To simplify our analysis and focus specifically on severe cases, we will update this column based on ICU admission information.\n",
        "\n",
        "- **Preprocessing Strategy:**\n",
        "  - We will fill the `hosp_yn` column with 'Yes' for all cases where the individual is hospitalized and admitted to the ICU.\n",
        "  - This approach helps us to categorize cases more distinctly based on the severity and requirement of intensive care.\n",
        "  - Such preprocessing is crucial for analyzing the impact of hospitalization, particularly for severe COVID-19 cases.\n",
        "\n",
        "By doing this, we aim to streamline our data for subsequent analysis, focusing on hospitalizations that involved ICU admissions, which are indicative of more severe COVID-19 cases.\n"
      ],
      "metadata": {
        "nteract": {
          "transient": {
            "deleting": false
          }
        }
      }
    },
    {
      "cell_type": "markdown",
      "source": [
        "So we drop ICU column to avoid redundancy"
      ],
      "metadata": {
        "nteract": {
          "transient": {
            "deleting": false
          }
        }
      }
    },
    {
      "cell_type": "code",
      "source": [
        "df.drop(columns=['icu_yn'],inplace=True,axis=1)"
      ],
      "outputs": [],
      "execution_count": 42,
      "metadata": {
        "jupyter": {
          "source_hidden": false,
          "outputs_hidden": false
        },
        "nteract": {
          "transient": {
            "deleting": false
          }
        },
        "gather": {
          "logged": 1706066938373
        }
      }
    },
    {
      "cell_type": "markdown",
      "source": [
        "Now as we can case month column has 12 missing values which is minuscule in comparison to total number of records. Hence, we drop the rows with case month having missing values"
      ],
      "metadata": {
        "nteract": {
          "transient": {
            "deleting": false
          }
        }
      }
    },
    {
      "cell_type": "code",
      "source": [
        "df.dropna(subset=['case_month'],inplace=True)"
      ],
      "outputs": [],
      "execution_count": 43,
      "metadata": {
        "jupyter": {
          "source_hidden": false,
          "outputs_hidden": false
        },
        "nteract": {
          "transient": {
            "deleting": false
          }
        },
        "gather": {
          "logged": 1706066944691
        }
      }
    },
    {
      "cell_type": "markdown",
      "source": [
        "Now we analyze for the resident state and state FIPS code. As both the column denote the same thing we can drop the FIPS code."
      ],
      "metadata": {
        "nteract": {
          "transient": {
            "deleting": false
          }
        }
      }
    },
    {
      "cell_type": "code",
      "source": [
        "s1 =df[(df['res_state'].isna()) & (df['state_fips_code'].isna())].shape\n",
        "s2 = df[pd.isna(df['res_state']) & pd.notna(df['state_fips_code'])].shape\n",
        "print(s1,s2)"
      ],
      "outputs": [
        {
          "output_type": "stream",
          "name": "stdout",
          "text": "(908, 14) (0, 14)\n"
        }
      ],
      "execution_count": 11,
      "metadata": {
        "jupyter": {
          "source_hidden": false,
          "outputs_hidden": false
        },
        "nteract": {
          "transient": {
            "deleting": false
          }
        },
        "gather": {
          "logged": 1706046831423
        }
      }
    },
    {
      "cell_type": "markdown",
      "source": [
        "We check whether in any case we have the FIPS code while the value of state is missing. This may help us in imputing the values for the State column from the FIPS code. But we see there are no such cases. Hence we can directly drop the state FIPS code column."
      ],
      "metadata": {
        "nteract": {
          "transient": {
            "deleting": false
          }
        }
      }
    },
    {
      "cell_type": "code",
      "source": [
        "df.drop(columns='state_fips_code',inplace=True,axis=1)"
      ],
      "outputs": [],
      "execution_count": 44,
      "metadata": {
        "jupyter": {
          "source_hidden": false,
          "outputs_hidden": false
        },
        "nteract": {
          "transient": {
            "deleting": false
          }
        },
        "gather": {
          "logged": 1706066948689
        }
      }
    },
    {
      "cell_type": "markdown",
      "source": [
        "Doing the similar for res_county column"
      ],
      "metadata": {
        "nteract": {
          "transient": {
            "deleting": false
          }
        }
      }
    },
    {
      "cell_type": "code",
      "source": [
        "s1 =df[(df['res_county'].isna()) & (df['county_fips_code'].isna())].shape\n",
        "s2=df[pd.isna(df['res_county']) & pd.notna(df['county_fips_code'])].shape\n",
        "print(s1,s2)"
      ],
      "outputs": [
        {
          "output_type": "stream",
          "name": "stdout",
          "text": "(2561272, 13) (0, 13)\n"
        }
      ],
      "execution_count": 13,
      "metadata": {
        "jupyter": {
          "source_hidden": false,
          "outputs_hidden": false
        },
        "nteract": {
          "transient": {
            "deleting": false
          }
        },
        "gather": {
          "logged": 1706046838112
        }
      }
    },
    {
      "cell_type": "markdown",
      "source": [
        "Again no anomalies, hence dropping the county FIPS code column"
      ],
      "metadata": {
        "nteract": {
          "transient": {
            "deleting": false
          }
        }
      }
    },
    {
      "cell_type": "code",
      "source": [
        "df.drop(columns=['county_fips_code'],inplace=True,axis=1)"
      ],
      "outputs": [],
      "execution_count": 45,
      "metadata": {
        "jupyter": {
          "source_hidden": false,
          "outputs_hidden": false
        },
        "nteract": {
          "transient": {
            "deleting": false
          }
        },
        "gather": {
          "logged": 1706066952661
        }
      }
    },
    {
      "cell_type": "markdown",
      "source": [
        "## Heatmap of Missing Values\n",
        "\n",
        "In this section, we generate a heatmap to visually inspect the presence of missing values across different columns in our dataset.\n",
        "\n",
        "This heatmap is a powerful tool for quickly identifying patterns of missing data, helping us determine if the missing values are random or systematic and thus informing our approach to data cleaning and imputation.\n"
      ],
      "metadata": {
        "nteract": {
          "transient": {
            "deleting": false
          }
        }
      }
    },
    {
      "cell_type": "code",
      "source": [
        "plt.figure(figsize=(10, 6))\n",
        "sns.heatmap(df.isnull(), cbar=False)\n",
        "plt.title(\"Heatmap of Missing Values\")\n",
        "plt.show()"
      ],
      "outputs": [
        {
          "output_type": "display_data",
          "data": {
            "text/plain": "<Figure size 1000x600 with 1 Axes>",
            "image/png": "[encoded data removed]"
          },
          "metadata": {}
        }
      ],
      "execution_count": 46,
      "metadata": {
        "jupyter": {
          "source_hidden": false,
          "outputs_hidden": false
        },
        "nteract": {
          "transient": {
            "deleting": false
          }
        },
        "gather": {
          "logged": 1706067253800
        }
      }
    },
    {
      "cell_type": "markdown",
      "source": [
        "### Observations from the Heatmap of Missing Values\n",
        "\n",
        "The heatmap visualizes the missing data across various columns in the dataset:\n",
        "\n",
        "- Each column on the x-axis represents a different variable, while each row corresponds to a record in the dataset.\n",
        "- The light-colored lines across the columns signify the presence of missing values. Columns that are entirely dark have no missing data.\n",
        "- It is evident that missing data is not uniformly distributed across the columns. Some columns have a higher frequency of missing data, as indicated by the greater number of light-colored lines.\n",
        "- The columns `race`, `ethnicity`, `case_positive_specimen_interval`, and `case_onset_interval` display a significant number of missing values, which suggests that these areas might require attention during the data cleaning process.\n",
        "- Other columns such as `case_month`, `res_state`, and `res_county` show fewer missing values, which may indicate that the data in these columns is more complete.\n",
        "\n",
        "This heatmap is instrumental in our preliminary data analysis, providing a quick and clear overview of the dataset's completeness. It highlights the need for further investigation into the nature of the missing data and will inform our strategy for data imputation or omission during the cleaning phase.\n"
      ],
      "metadata": {
        "nteract": {
          "transient": {
            "deleting": false
          }
        }
      }
    },
    {
      "cell_type": "markdown",
      "source": [
        "We observe that age group and sex have the least missing values. Hence, we can impute those with mode."
      ],
      "metadata": {
        "nteract": {
          "transient": {
            "deleting": false
          }
        }
      }
    },
    {
      "cell_type": "code",
      "source": [
        "df['age_group'].value_counts()\n",
        "age_group_mode = df['age_group'].mode()[0]  \n",
        "df['age_group'] = df['age_group'].fillna(age_group_mode)"
      ],
      "outputs": [],
      "execution_count": 48,
      "metadata": {
        "jupyter": {
          "source_hidden": false,
          "outputs_hidden": false
        },
        "nteract": {
          "transient": {
            "deleting": false
          }
        },
        "gather": {
          "logged": 1706067905354
        }
      }
    },
    {
      "cell_type": "markdown",
      "source": [
        "We observe that for the sex column the number of males and females are almost same hence we do a probabilistic imputation for sex column"
      ],
      "metadata": {
        "nteract": {
          "transient": {
            "deleting": false
          }
        }
      }
    },
    {
      "cell_type": "code",
      "source": [
        "df['sex'].value_counts()\n"
      ],
      "outputs": [
        {
          "output_type": "execute_result",
          "execution_count": 17,
          "data": {
            "text/plain": "Female     18846393\nMale       17160125\nUnknown      235445\nOther            12\nName: sex, dtype: int64"
          },
          "metadata": {}
        }
      ],
      "execution_count": 17,
      "metadata": {
        "jupyter": {
          "source_hidden": false,
          "outputs_hidden": false
        },
        "nteract": {
          "transient": {
            "deleting": false
          }
        },
        "gather": {
          "logged": 1706046850827
        }
      }
    },
    {
      "cell_type": "markdown",
      "source": [
        "\n",
        "\n",
        "- **Probability Calculation:**\n",
        "  - We first calculate the probabilities of the dataset being 'Female' or 'Male' based on the observed frequencies.\n",
        "  - `prob_female` is the proportion of 'Female' entries in the non-missing data.\n",
        "  - `prob_male` is derived as `1 - prob_female`, representing the proportion of 'Male' entries.\n",
        "\n",
        "- **Data Imputation:**\n",
        "  - We use a random number generator, with a fixed seed for reproducibility, to assign 'Female' or 'Male' to missing entries.\n",
        "  - The `np.random.choice` method is used to randomly select 'Female' or 'Male' with the calculated probabilities for each missing value.\n",
        "  - This method of imputation preserves the underlying distribution of the 'sex' variable in the dataset.\n",
        "\n",
        "By imputing the missing 'sex' data in this way, we aim to maintain the integrity of the dataset's gender ratio, allowing for more accurate analysis without introducing bias that might come from disproportionate imputation.\n"
      ],
      "metadata": {
        "nteract": {
          "transient": {
            "deleting": false
          }
        }
      }
    },
    {
      "cell_type": "code",
      "source": [
        "# import numpy as np\n",
        "\n",
        "# Probability of each gender based on non-missing data\n",
        "prob_female = df['sex'].value_counts()[0] / (df['sex'].value_counts()[1] + df['sex'].value_counts()[0])\n",
        "prob_male = 1 - prob_female\n",
        "\n",
        "# Randomly assign values based on observed probabilities\n",
        "np.random.seed(0)  # For reproducibility\n",
        "df.loc[df['sex'].isnull(), 'sex'] = np.random.choice(\n",
        "    ['Female', 'Male'],\n",
        "    size=df['sex'].isnull().sum(),\n",
        "    p=[prob_female, prob_male]\n",
        ")"
      ],
      "outputs": [],
      "execution_count": 18,
      "metadata": {
        "jupyter": {
          "source_hidden": false,
          "outputs_hidden": false
        },
        "nteract": {
          "transient": {
            "deleting": false
          }
        },
        "gather": {
          "logged": 1706046862002
        }
      }
    },
    {
      "cell_type": "code",
      "source": [
        "df.drop(columns=['race','ethnicity','case_positive_specimen_interval','case_onset_interval'],inplace=True,axis=1)"
      ],
      "outputs": [],
      "execution_count": 19,
      "metadata": {
        "jupyter": {
          "source_hidden": false,
          "outputs_hidden": false
        },
        "nteract": {
          "transient": {
            "deleting": false
          }
        },
        "gather": {
          "logged": 1706046865056
        }
      }
    },
    {
      "cell_type": "markdown",
      "source": [
        "In the data cleaning phase, we have decided to remove certain columns that are either not relevant to our main analysis or contain a large number of missing values, which could compromise the quality of our insights.\n",
        "\n",
        "\n",
        "  - `race` and `ethnicity`: These columns have been dropped as they are deemed not directly relevant to the analysis of AQI and hospitalization rates.\n",
        "  - `case_positive_specimen_interval` and `case_onset_interval`: These columns have been removed due to the significant amount of missing data, which presents challenges in imputation and could introduce bias into our analysis.\n"
      ],
      "metadata": {
        "nteract": {
          "transient": {
            "deleting": false
          }
        }
      }
    },
    {
      "cell_type": "markdown",
      "source": [
        "Now we will analyze the county column. For us to get a better understanding we will see the proportion of missing values for county for a given state so that we can decide on the imputation strategy. As it is a decently small number we choose to impute."
      ],
      "metadata": {
        "nteract": {
          "transient": {
            "deleting": false
          }
        }
      }
    },
    {
      "cell_type": "code",
      "source": [
        "# Calculate total count per state\n",
        "total_count_per_state = df.groupby('res_state').size()\n",
        "\n",
        "# Calculate missing count per state\n",
        "missing_count_per_state = df[df['res_county'].isna()].groupby('res_state').size()\n",
        "\n",
        "# Calculate proportion of missing values per state\n",
        "missing_proportion_per_state = (missing_count_per_state / total_count_per_state)*100\n",
        "\n",
        "# Convert the Series to a DataFrame for better formatting\n",
        "missing_proportion_df = missing_proportion_per_state.reset_index()\n",
        "missing_proportion_df.columns = ['res_state', 'Missing Proportion']\n",
        "\n",
        "# Print the result\n",
        "print(missing_proportion_df)"
      ],
      "outputs": [
        {
          "output_type": "stream",
          "name": "stdout",
          "text": "   res_state  Missing Proportion\n0         AK           28.231608\n1         AL            9.443209\n2         AR           18.103305\n3         AZ            0.452554\n4         CA            0.261998\n5         CO            6.100356\n6         CT            0.866692\n7         DC          100.000000\n8         DE            4.211550\n9         FL            1.206208\n10        GA           14.904588\n11        GU          100.000000\n12        HI            8.665299\n13        IA           26.793252\n14        ID           11.055103\n15        IL            5.581206\n16        IN            5.375862\n17        KS           19.278097\n18        KY           29.656871\n19        LA           66.494101\n20        MA            0.691570\n21        MD            1.655289\n22        ME            3.717660\n23        MI            2.793662\n24        MN            8.155411\n25        MO           47.560097\n26        MS           62.447701\n27        MT           28.510614\n28        NC            2.642464\n29        ND           27.574411\n30        NE           40.059493\n31        NH            1.062772\n32        NJ            0.649587\n33        NM            8.911505\n34        NV            4.356998\n35        NY            0.509656\n36        OH            1.619265\n37        OK            9.847433\n38        OR            2.704744\n39        PA            1.036408\n40        PR          100.000000\n41        RI            0.274332\n42        SC            1.694883\n43        SD           36.554797\n44        TN            8.747860\n45        TX           41.572359\n46        UT            7.153743\n47        VA            9.703974\n48        VI          100.000000\n49        VT            4.588036\n50        WA            1.694685\n51        WI            7.763999\n52        WV           86.646056\n53        WY           21.179131\n"
        }
      ],
      "execution_count": 49,
      "metadata": {
        "jupyter": {
          "source_hidden": false,
          "outputs_hidden": false
        },
        "nteract": {
          "transient": {
            "deleting": false
          }
        },
        "gather": {
          "logged": 1706068821442
        }
      }
    },
    {
      "cell_type": "markdown",
      "source": [
        "The analysis of missing county data across states has yielded the following insights:\n",
        "\n",
        "- A wide variation in the proportion of missing `res_county` data exists across different states.\n",
        "- Certain states like `DC`, `GU`, `PR`, and `VI` have 100% missing data for the county column, which indicates that the county data is completely absent or was never collected for these regions.\n",
        "- States such as `WV`, `MS`, and `TX` show very high percentages of missing county data (above 40%), suggesting that for a significant portion of the records from these states, the county information is not available.\n",
        "- On the other hand, there are states like `AZ`, `CA`, `CT`, `MA`, `NJ`, `NY`, `NH`, and `RI` where the missing data is relatively minimal (less than 1%), indicating that the county data is largely complete for these areas.\n",
        "- The variation in missing data could be due to several factors, such as differences in data collection processes across states or reporting standards."
      ],
      "metadata": {
        "nteract": {
          "transient": {
            "deleting": false
          }
        }
      }
    },
    {
      "cell_type": "markdown",
      "source": [
        "So we decide a strategy where if the proportion of missing values is less than 20%. We impute using mode. Otherwise we drop the rows with missing values greater than 20%. It is a lot of information loss. But rather than imputing with stats, we rather drop in order to preserve the integrity of data as in future, county will play a crucial role for us to analyze the relation between AQI and Hospitalization rates."
      ],
      "metadata": {
        "nteract": {
          "transient": {
            "deleting": false
          }
        }
      }
    },
    {
      "cell_type": "code",
      "source": [
        "\n",
        "# States with less than 20% missing values in 'res_county'\n",
        "states_less_than_20_missing = missing_proportion_per_state[missing_proportion_per_state < 20].index\n",
        "\n",
        "# Fill missing values with mode for these states\n",
        "for state in states_less_than_20_missing:\n",
        "    mode_value = df.loc[df['res_state'] == state, 'res_county'].mode()[0]\n",
        "    df.loc[(df['res_state'] == state) & (df['res_county'].isna()), 'res_county'] = mode_value\n",
        "\n",
        "# Drop rows with missing 'res_county' in states with more than 20% missing values\n",
        "states_more_than_20_missing = missing_proportion_per_state[missing_proportion_per_state >= 20].index\n",
        "df = df[~((df['res_state'].isin(states_more_than_20_missing)) & (df['res_county'].isna()))]\n"
      ],
      "outputs": [],
      "execution_count": 22,
      "metadata": {
        "jupyter": {
          "source_hidden": false,
          "outputs_hidden": false
        },
        "nteract": {
          "transient": {
            "deleting": false
          }
        },
        "gather": {
          "logged": 1706047071238
        }
      }
    },
    {
      "cell_type": "code",
      "source": [
        "df.isnull().sum()"
      ],
      "outputs": [
        {
          "output_type": "execute_result",
          "execution_count": 23,
          "data": {
            "text/plain": "case_month               0\nres_state              908\nres_county             908\nage_group                0\nsex                      0\ncurrent_status           0\nsymptom_status    14100341\nhosp_yn           15146716\ndtype: int64"
          },
          "metadata": {}
        }
      ],
      "execution_count": 23,
      "metadata": {
        "jupyter": {
          "source_hidden": false,
          "outputs_hidden": false
        },
        "nteract": {
          "transient": {
            "deleting": false
          }
        },
        "gather": {
          "logged": 1706047080696
        }
      }
    },
    {
      "cell_type": "markdown",
      "source": [
        "Now we drop the remaining state and county rows that both had missing values."
      ],
      "metadata": {
        "nteract": {
          "transient": {
            "deleting": false
          }
        }
      }
    },
    {
      "cell_type": "code",
      "source": [
        "df.dropna(subset=['res_state','res_county'],inplace=True)"
      ],
      "outputs": [],
      "execution_count": 24,
      "metadata": {
        "jupyter": {
          "source_hidden": false,
          "outputs_hidden": false
        },
        "nteract": {
          "transient": {
            "deleting": false
          }
        },
        "gather": {
          "logged": 1706047086860
        }
      }
    },
    {
      "cell_type": "markdown",
      "source": [
        "Now we see that both the columns symptom_status and hosp_yn, probably the most important parameters for our analysis."
      ],
      "metadata": {
        "nteract": {
          "transient": {
            "deleting": false
          }
        }
      }
    },
    {
      "cell_type": "code",
      "source": [
        "df.isnull().sum()"
      ],
      "outputs": [
        {
          "output_type": "execute_result",
          "execution_count": 25,
          "data": {
            "text/plain": "case_month               0\nres_state                0\nres_county               0\nage_group                0\nsex                      0\ncurrent_status           0\nsymptom_status    14099946\nhosp_yn           15146406\ndtype: int64"
          },
          "metadata": {}
        }
      ],
      "execution_count": 25,
      "metadata": {
        "jupyter": {
          "source_hidden": false,
          "outputs_hidden": false
        },
        "nteract": {
          "transient": {
            "deleting": false
          }
        },
        "gather": {
          "logged": 1706047096262
        }
      }
    },
    {
      "cell_type": "markdown",
      "source": [
        "We split the date into year and month to ease our analysis"
      ],
      "metadata": {
        "nteract": {
          "transient": {
            "deleting": false
          }
        }
      }
    },
    {
      "cell_type": "code",
      "source": [
        "df['year'] = df['case_month'].apply(lambda x: x.split('-')[0]).astype(int)\n",
        "df['month'] = df['case_month'].apply(lambda x: x.split('-')[1]).astype(int)\n",
        "df.drop('case_month', axis=1, inplace=True)\n",
        "\n"
      ],
      "outputs": [],
      "execution_count": 26,
      "metadata": {
        "jupyter": {
          "source_hidden": false,
          "outputs_hidden": false
        },
        "nteract": {
          "transient": {
            "deleting": false
          }
        },
        "gather": {
          "logged": 1706047126808
        }
      }
    },
    {
      "cell_type": "markdown",
      "source": [
        "For symptom_status and hosp_yn, we cannot afford to impute using mean, median or mode as this may introduce unwanted bias and degrade the data quality and may result in wrong analytical insights. So we tried a method called MICE.\n",
        "\n",
        "MICE, which stands for Multiple Imputation by Chained Equations, is a statistical technique used to handle missing data. It's particularly useful when dealing with datasets where multiple variables have missing values, a common challenge in real-world data analysis. Here's an overview of how MICE works:\n",
        "\n",
        "Multiple Imputation: Unlike simple imputation methods (like filling missing values with the mean or median), MICE creates several different imputed datasets. These datasets are generated by a series of regression models, accounting for the uncertainty around the missing data.\n",
        "\n",
        "Chained Equations: The \"chained equations\" aspect of MICE refers to the sequential manner in which each variable with missing data is imputed. For each variable with missing data:\n",
        "\n",
        "A model is fitted on the rest of the variables.\n",
        "Missing values are then imputed using the fitted model.\n",
        "This process is repeated for each variable in turn, in a \"round-robin\" fashion.\n",
        "\n",
        "\n",
        "But as we have a lot of data. Due to computational limitations, we instead decide to drop both rows with missing values"
      ],
      "metadata": {
        "nteract": {
          "transient": {
            "deleting": false
          }
        }
      }
    },
    {
      "cell_type": "code",
      "source": [
        "df.dropna(subset=['symptom_status','hosp_yn'],inplace=True)\n"
      ],
      "outputs": [],
      "execution_count": 28,
      "metadata": {
        "jupyter": {
          "source_hidden": false,
          "outputs_hidden": false
        },
        "nteract": {
          "transient": {
            "deleting": false
          }
        },
        "gather": {
          "logged": 1706047131804
        }
      }
    },
    {
      "cell_type": "markdown",
      "source": [
        "Now all the missing values are filled and we will save the csv file and move on to the next steps"
      ],
      "metadata": {
        "nteract": {
          "transient": {
            "deleting": false
          }
        }
      }
    },
    {
      "cell_type": "code",
      "source": [
        "df.isnull().sum()"
      ],
      "outputs": [
        {
          "output_type": "execute_result",
          "execution_count": 29,
          "data": {
            "text/plain": "res_state         0\nres_county        0\nage_group         0\nsex               0\ncurrent_status    0\nsymptom_status    0\nhosp_yn           0\nyear              0\nmonth             0\ndtype: int64"
          },
          "metadata": {}
        }
      ],
      "execution_count": 29,
      "metadata": {
        "jupyter": {
          "source_hidden": false,
          "outputs_hidden": false
        },
        "nteract": {
          "transient": {
            "deleting": false
          }
        },
        "gather": {
          "logged": 1706047135692
        }
      }
    },
    {
      "cell_type": "code",
      "source": [
        "df.to_csv(\"Final_Cleaned.csv\")"
      ],
      "outputs": [],
      "execution_count": 30,
      "metadata": {
        "jupyter": {
          "source_hidden": false,
          "outputs_hidden": false
        },
        "nteract": {
          "transient": {
            "deleting": false
          }
        },
        "gather": {
          "logged": 1706047188463
        }
      }
    },
    {
      "cell_type": "markdown",
      "source": [
        "## Conclusion\n",
        "\n",
        "In this notebook, we conducted a comprehensive analysis of a dataset focusing on COVID-19 patients. Our journey began with data loading and initial exploration, where we familiarized ourselves with the dataset's structure and contents. We identified and addressed missing values, employing techniques such as probability-based imputation for the `sex` column and direct omission of columns with extensive missing data or those deemed irrelevant to our analysis objectives.\n",
        "\n",
        "Key observations and actions included:\n",
        "- A high proportion of missing data in certain columns led to their removal to maintain the robustness of our analysis.\n",
        "- We implemented a methodical approach to impute missing values for the `sex` column, preserving the underlying distribution of the dataset.\n",
        "- The visualization of missing data helped highlight the need for careful consideration of data quality and completeness, particularly for geographic variables like `res_county`.\n",
        "\n",
        ".\n",
        "\n",
        "By documenting each step of our analytical process, we aimed to ensure transparency, reproducibility, and a clear understanding of our methodologies and findings. We believe that this notebook not only demonstrates our analytical capabilities but also showcases our commitment to thoroughness and attention to detail in data analysis.\n"
      ],
      "metadata": {
        "nteract": {
          "transient": {
            "deleting": false
          }
        }
      }
    },
    {
      "cell_type": "markdown",
      "source": [],
      "metadata": {
        "nteract": {
          "transient": {
            "deleting": false
          }
        }
      }
    },
    {
      "cell_type": "markdown",
      "source": [
        "## References\n",
        "\n",
        "1. MICE: https://scikit-learn.org/stable/modules/generated/sklearn.impute.IterativeImputer.html"
      ],
      "metadata": {
        "nteract": {
          "transient": {
            "deleting": false
          }
        }
      }
    },
    {
      "cell_type": "code",
      "source": [],
      "outputs": [],
      "execution_count": null,
      "metadata": {
        "jupyter": {
          "source_hidden": false,
          "outputs_hidden": false
        },
        "nteract": {
          "transient": {
            "deleting": false
          }
        }
      }
    }
  ],
  "metadata": {
    "kernelspec": {
      "name": "python38-azureml",
      "language": "python",
      "display_name": "Python 3.8 - AzureML"
    },
    "language_info": {
      "name": "python",
      "version": "3.8.5",
      "mimetype": "text/x-python",
      "codemirror_mode": {
        "name": "ipython",
        "version": 3
      },
      "pygments_lexer": "ipython3",
      "nbconvert_exporter": "python",
      "file_extension": ".py"
    },
    "microsoft": {
      "ms_spell_check": {
        "ms_spell_check_language": "en"
      },
      "host": {
        "AzureML": {
          "notebookHasBeenCompleted": true
        }
      }
    },
    "nteract": {
      "version": "nteract-front-end@1.0.0"
    },
    "kernel_info": {
      "name": "python38-azureml"
    }
  },
  "nbformat": 4,
  "nbformat_minor": 2
}